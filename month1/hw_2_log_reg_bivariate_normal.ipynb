{
 "cells": [
  {
   "cell_type": "code",
   "execution_count": 1,
   "metadata": {},
   "outputs": [
    {
     "name": "stdout",
     "output_type": "stream",
     "text": [
      "Populating the interactive namespace from numpy and matplotlib\n"
     ]
    },
    {
     "name": "stderr",
     "output_type": "stream",
     "text": [
      "/opt/conda/lib/python3.6/site-packages/IPython/core/magics/pylab.py:160: UserWarning: pylab import has clobbered these variables: ['multivariate_normal']\n",
      "`%matplotlib` prevents importing * from pylab and numpy\n",
      "  \"\\n`%matplotlib` prevents importing * from pylab and numpy\"\n"
     ]
    }
   ],
   "source": [
    "import torch\n",
    "import torch.nn as nn\n",
    "import torch.nn.functional as F\n",
    "import torch.optim as optim\n",
    "\n",
    "import numpy as np\n",
    "import scipy.stats as stats\n",
    "import matplotlib.pyplot as plt\n",
    "\n",
    "from sklearn.datasets import make_spd_matrix\n",
    "from scipy.stats import multivariate_normal\n",
    "from mpl_toolkits.mplot3d import Axes3D\n",
    "\n",
    "%matplotlib inline\n",
    "%pylab inline"
   ]
  },
  {
   "cell_type": "markdown",
   "metadata": {},
   "source": [
    "### Inputs"
   ]
  },
  {
   "cell_type": "code",
   "execution_count": 2,
   "metadata": {},
   "outputs": [],
   "source": [
    "# параметры распределений\n",
    "# двумерное нормальное распределение задается вектором матожиданий mu размерности 2 и матрицей ковариации размерности 2x2\n",
    "\n",
    "mu0  = [-2., 2.]                 \n",
    "cov0 = make_spd_matrix(n_dim=2, random_state=223)  # сделаем дисперсию случайной\n",
    "\n",
    "mu1  = [3., 1.]\n",
    "cov1 = make_spd_matrix(n_dim=2, random_state=2556)"
   ]
  },
  {
   "cell_type": "code",
   "execution_count": 3,
   "metadata": {},
   "outputs": [
    {
     "name": "stdout",
     "output_type": "stream",
     "text": [
      "1. mu: [-2.0, 2.0]\n",
      "cov:\n",
      "[[ 2.39372096 -0.53673463]\n",
      " [-0.53673463  0.51274882]]\n",
      "-------\n",
      "2. mu: [3.0, 1.0]\n",
      "cov:\n",
      "[[1.92219028 1.00518736]\n",
      " [1.00518736 1.75169592]]\n"
     ]
    }
   ],
   "source": [
    "print(\"1. mu: {}\\ncov:\\n{}\\n-------\\n2. mu: {}\\ncov:\\n{}\".format(mu0, cov0, mu1, cov1))"
   ]
  },
  {
   "cell_type": "code",
   "execution_count": 4,
   "metadata": {},
   "outputs": [],
   "source": [
    "def sample(d0, d1, n=32):\n",
    "    x0 = d0.sample((n,))\n",
    "    x1 = d1.sample((n,))\n",
    "    y0 = torch.zeros((n, 1))\n",
    "    y1 = torch.ones((n, 1))\n",
    "    return torch.cat([x0, x1], 0), torch.cat([y0, y1], 0)"
   ]
  },
  {
   "cell_type": "code",
   "execution_count": 5,
   "metadata": {},
   "outputs": [],
   "source": [
    "d0 = torch.distributions.MultivariateNormal(torch.tensor(mu0), covariance_matrix=torch.tensor(cov0, dtype=torch.float32))\n",
    "d1 = torch.distributions.MultivariateNormal(torch.tensor(mu1), covariance_matrix=torch.tensor(cov1, dtype=torch.float32))"
   ]
  },
  {
   "cell_type": "code",
   "execution_count": 6,
   "metadata": {},
   "outputs": [
    {
     "data": {
      "text/plain": [
       "tensor([-2.7685,  1.7074])"
      ]
     },
     "execution_count": 6,
     "metadata": {},
     "output_type": "execute_result"
    }
   ],
   "source": [
    "d0.sample()"
   ]
  },
  {
   "cell_type": "markdown",
   "metadata": {},
   "source": [
    "### Train"
   ]
  },
  {
   "cell_type": "code",
   "execution_count": 7,
   "metadata": {},
   "outputs": [
    {
     "name": "stdout",
     "output_type": "stream",
     "text": [
      "[tensor([-0.0157, -0.5430]), tensor(0.5529)]\n"
     ]
    }
   ],
   "source": [
    "layer = nn.Linear(in_features=2, out_features=1)  # x0, x1: 2 признака на входе модели; y: выход полносвязного слоя\n",
    "print([p.data[0] for p in layer.parameters()])\n",
    "opt = optim.SGD(lr=1e-2, params=list(layer.parameters()))"
   ]
  },
  {
   "cell_type": "code",
   "execution_count": 8,
   "metadata": {},
   "outputs": [
    {
     "name": "stdout",
     "output_type": "stream",
     "text": [
      "Ошибка после 0 итераций: 0.631999\n",
      "Ошибка после 1 итераций: 0.122548\n",
      "Ошибка после 2 итераций: 0.101670\n",
      "Ошибка после 3 итераций: 0.094428\n",
      "Ошибка после 4 итераций: 0.089391\n",
      "Ошибка после 5 итераций: 0.086452\n",
      "Ошибка после 6 итераций: 0.084385\n",
      "Ошибка после 7 итераций: 0.083467\n",
      "Ошибка после 8 итераций: 0.081565\n",
      "Ошибка после 9 итераций: 0.082093\n",
      "Ошибка после 10 итераций: 0.081031\n",
      "Ошибка после 11 итераций: 0.079551\n",
      "Ошибка после 12 итераций: 0.079643\n",
      "Ошибка после 13 итераций: 0.081525\n",
      "Ошибка после 14 итераций: 0.078570\n",
      "Ошибка после 15 итераций: 0.079773\n",
      "Ошибка после 16 итераций: 0.079417\n",
      "Ошибка после 17 итераций: 0.078598\n",
      "Ошибка после 18 итераций: 0.078423\n",
      "Ошибка после 19 итераций: 0.078717\n"
     ]
    }
   ],
   "source": [
    "log_freq = 500\n",
    "for i in range(10000):\n",
    "    if i%log_freq == 0:\n",
    "        with torch.no_grad():\n",
    "            x, y = sample(d0, d1, 100000)\n",
    "            out = F.sigmoid(layer(x))\n",
    "            loss = F.binary_cross_entropy(out, y)\n",
    "        print('Ошибка после %d итераций: %f' %(i/log_freq, loss))\n",
    "    x, y = sample(d0, d1, 1024)\n",
    "    out = F.sigmoid(layer(x))\n",
    "    opt.zero_grad()\n",
    "    loss = F.binary_cross_entropy(out, y)\n",
    "    loss.backward()\n",
    "    opt.step()"
   ]
  },
  {
   "cell_type": "code",
   "execution_count": 9,
   "metadata": {},
   "outputs": [
    {
     "name": "stdout",
     "output_type": "stream",
     "text": [
      "[tensor([ 2.3343, -1.4537]), tensor(1.00000e-02 *\n",
      "       -2.2044)]\n"
     ]
    }
   ],
   "source": [
    "print([p.data[0] for p in layer.parameters()]) # параметры модели после оптимизации"
   ]
  },
  {
   "cell_type": "markdown",
   "metadata": {},
   "source": [
    "### Inference"
   ]
  },
  {
   "cell_type": "code",
   "execution_count": 10,
   "metadata": {},
   "outputs": [
    {
     "data": {
      "text/plain": [
       "<matplotlib.legend.Legend at 0x7fb69eb2f080>"
      ]
     },
     "execution_count": 10,
     "metadata": {},
     "output_type": "execute_result"
    },
    {
     "data": {
      "text/plain": [
       "<Figure size 504x360 with 0 Axes>"
      ]
     },
     "metadata": {},
     "output_type": "display_data"
    },
    {
     "data": {
      "image/png": "[encoded data removed]",
      "text/plain": [
       "<Figure size 432x288 with 1 Axes>"
      ]
     },
     "metadata": {},
     "output_type": "display_data"
    }
   ],
   "source": [
    "zx0, zy0 = np.random.multivariate_normal(np.array(mu0), cov0, 2000).T\n",
    "zx1, zy1 = np.random.multivariate_normal(np.array(mu1), cov1, 2000).T\n",
    "\n",
    "plt.figure(figsize=(7, 5))\n",
    "\n",
    "fig = plt.figure()\n",
    "plt.plot(zx0, zy0, '.', label='d1')\n",
    "plt.plot(zx1, zy1, '.', label='d2')\n",
    "plt.legend()"
   ]
  },
  {
   "cell_type": "code",
   "execution_count": 11,
   "metadata": {},
   "outputs": [
    {
     "ename": "AttributeError",
     "evalue": "'numpy.ndarray' object has no attribute 'pdf'",
     "output_type": "error",
     "traceback": [
      "\u001b[0;31m---------------------------------------------------------------------------\u001b[0m",
      "\u001b[0;31mAttributeError\u001b[0m                            Traceback (most recent call last)",
      "\u001b[0;32m<ipython-input-11-cdd4781c59f1>\u001b[0m in \u001b[0;36m<module>\u001b[0;34m()\u001b[0m\n\u001b[1;32m     10\u001b[0m \u001b[0mpos\u001b[0m\u001b[0;34m[\u001b[0m\u001b[0;34m:\u001b[0m\u001b[0;34m,\u001b[0m \u001b[0;34m:\u001b[0m\u001b[0;34m,\u001b[0m \u001b[0;36m1\u001b[0m\u001b[0;34m]\u001b[0m \u001b[0;34m=\u001b[0m \u001b[0mY\u001b[0m\u001b[0;34m\u001b[0m\u001b[0m\n\u001b[1;32m     11\u001b[0m \u001b[0;34m\u001b[0m\u001b[0m\n\u001b[0;32m---> 12\u001b[0;31m \u001b[0mZ0\u001b[0m \u001b[0;34m=\u001b[0m \u001b[0mmultivariate_normal\u001b[0m\u001b[0;34m(\u001b[0m\u001b[0mmu0\u001b[0m\u001b[0;34m,\u001b[0m \u001b[0mcov0\u001b[0m\u001b[0;34m)\u001b[0m\u001b[0;34m.\u001b[0m\u001b[0mpdf\u001b[0m\u001b[0;34m(\u001b[0m\u001b[0mpos\u001b[0m\u001b[0;34m)\u001b[0m\u001b[0;34m*\u001b[0m\u001b[0;36m10\u001b[0m\u001b[0;34m\u001b[0m\u001b[0m\n\u001b[0m\u001b[1;32m     13\u001b[0m \u001b[0mZ1\u001b[0m \u001b[0;34m=\u001b[0m \u001b[0mmultivariate_normal\u001b[0m\u001b[0;34m(\u001b[0m\u001b[0mmu1\u001b[0m\u001b[0;34m,\u001b[0m \u001b[0mcov1\u001b[0m\u001b[0;34m)\u001b[0m\u001b[0;34m.\u001b[0m\u001b[0mpdf\u001b[0m\u001b[0;34m(\u001b[0m\u001b[0mpos\u001b[0m\u001b[0;34m)\u001b[0m\u001b[0;34m*\u001b[0m\u001b[0;36m10\u001b[0m\u001b[0;34m\u001b[0m\u001b[0m\n\u001b[1;32m     14\u001b[0m \u001b[0;34m\u001b[0m\u001b[0m\n",
      "\u001b[0;31mAttributeError\u001b[0m: 'numpy.ndarray' object has no attribute 'pdf'"
     ]
    }
   ],
   "source": [
    "# Our 2-dimensional distribution will be over variables X and Y\n",
    "N = 50\n",
    "X = np.linspace(-6, 6, N)\n",
    "Y = np.linspace(-4, 4, N)\n",
    "X, Y = np.meshgrid(X, Y)\n",
    "\n",
    "# Pack X and Y into a single 3-dimensional array\n",
    "pos = np.empty(X.shape + (2,))\n",
    "pos[:, :, 0] = X\n",
    "pos[:, :, 1] = Y\n",
    "\n",
    "Z0 = multivariate_normal(mu0, cov0).pdf(pos)*10\n",
    "Z1 = multivariate_normal(mu1, cov1).pdf(pos)*10\n",
    "\n",
    "# Create a surface plot and projected filled contour plot under it.\n",
    "fig = pylab.figure(figsize=(7, 5))\n",
    "axes = Axes3D(fig)\n",
    "\n",
    "# sigmoid\n",
    "xy = np.column_stack([X.flat, X.flat])\n",
    "xy_tensor = torch.tensor(xy, dtype=torch.float)\n",
    "\n",
    "with torch.no_grad():\n",
    "    z = F.sigmoid(layer(xy_tensor)).numpy()\n",
    "\n",
    "z = z.reshape(X.shape)\n",
    "\n",
    "axes.plot_surface(X, Y, Z0, linewidth=1, antialiased=True, cmap=cm.Oranges)\n",
    "axes.plot_surface(X, Y, Z1, linewidth=1, antialiased=True, cmap=cm.Oranges)\n",
    "\n",
    "\n",
    "axes.plot_surface(X, Y, z, linewidth=1, antialiased=True, alpha=0.4, color='blue')\n",
    "\n",
    "# rotate if it's needed\n",
    "# axes.view_init(elev=25, azim=80)"
   ]
  }
 ],
 "metadata": {
  "kernelspec": {
   "display_name": "Python 3",
   "language": "python",
   "name": "python3"
  },
  "language_info": {
   "codemirror_mode": {
    "name": "ipython",
    "version": 3
   },
   "file_extension": ".py",
   "mimetype": "text/x-python",
   "name": "python",
   "nbconvert_exporter": "python",
   "pygments_lexer": "ipython3",
   "version": "3.6.3"
  }
 },
 "nbformat": 4,
 "nbformat_minor": 2
}
